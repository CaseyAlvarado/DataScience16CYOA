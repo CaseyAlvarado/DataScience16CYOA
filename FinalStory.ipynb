{
 "cells": [
  {
   "cell_type": "markdown",
   "metadata": {},
   "source": [
    "# Rotten Tomatoes Sentiment Prediction\n",
    "\n",
    "## Exploration\n",
    "- pattern sentiment (but minimize)\n",
    "- subj/obj and phrase length\n",
    "- modality and mood (summarize all the pattern stuff bc we didn't really use it)\n",
    "- figure out what word2vec does - if it's similar to nltk tagging then include that\n",
    "\n",
    "- sentence sentiment vs average sentiment of its phrases\n",
    "\n",
    "- WORD CLOUD\n",
    "- include most pos/neg words (relate to naive bayes + flow into scikit learn)\n",
    "\n",
    "## Classification Models\n",
    "- copy the model-iterations notebook but clean the code to make sure it isn't repetitive\n",
    "\n",
    "## Neural Networks\n",
    "- Code from lasagne and results\n",
    "- add lots of comments to show we know what it does"
   ]
  }
 ],
 "metadata": {
  "kernelspec": {
   "display_name": "Python 2",
   "language": "python",
   "name": "python2"
  },
  "language_info": {
   "codemirror_mode": {
    "name": "ipython",
    "version": 2
   },
   "file_extension": ".py",
   "mimetype": "text/x-python",
   "name": "python",
   "nbconvert_exporter": "python",
   "pygments_lexer": "ipython2",
   "version": "2.7.11"
  }
 },
 "nbformat": 4,
 "nbformat_minor": 0
}
